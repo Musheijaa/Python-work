{
 "cells": [
  {
   "cell_type": "code",
   "execution_count": 6,
   "id": "43213997",
   "metadata": {},
   "outputs": [
    {
     "name": "stdout",
     "output_type": "stream",
     "text": [
      "CLEANED SALES DATA:\n",
      "   Order ID  Customer Name Order Date   Product  Quantity  Unit Price  \\\n",
      "0      1001       John Doe 2024-01-01  Widget A      10.0        25.0   \n",
      "1      1002     Jane Smith 2024-01-02  Widget B       5.0        40.0   \n",
      "2      1003     Jane Smith        NaT  Widget A       5.0        25.0   \n",
      "3      1004  Alice Johnson 2024-04-01  Widget C       3.0        25.0   \n",
      "4      1005      Bob Brown        NaT  Widget B      10.0        40.0   \n",
      "\n",
      "   Total Revenue  \n",
      "0          250.0  \n",
      "1          200.0  \n",
      "2          200.0  \n",
      "3          210.0  \n",
      "4          400.0  \n"
     ]
    },
    {
     "name": "stderr",
     "output_type": "stream",
     "text": [
      "/tmp/ipykernel_49764/1542998073.py:10: FutureWarning: DataFrame.fillna with 'method' is deprecated and will raise in a future version. Use obj.ffill() or obj.bfill() instead.\n",
      "  sales_df = sales_df.fillna(method='ffill')\n"
     ]
    }
   ],
   "source": [
    "import pandas as pd\n",
    "\n",
    "# Load the dataset\n",
    "sales_df = pd.read_csv(\"Sales.csv\")\n",
    "\n",
    "# Drop duplicate rows\n",
    "sales_df = sales_df.drop_duplicates()\n",
    "\n",
    "# Fill missing values (you can customize this)\n",
    "sales_df = sales_df.fillna(method='ffill')\n",
    "\n",
    "# Convert date columns to proper format\n",
    "for col in sales_df.columns:\n",
    "    if 'date' in col.lower():\n",
    "        sales_df[col] = pd.to_datetime(sales_df[col], errors='coerce')\n",
    "\n",
    "# Drop unnecessary columns (adjust as needed)\n",
    "columns_to_drop = ['UnneededColumn1', 'UnneededColumn2']  # Replace with real ones\n",
    "sales_df = sales_df.drop(columns=[col for col in columns_to_drop if col in sales_df.columns], errors='ignore')\n",
    "\n",
    "# Show cleaned dataset\n",
    "print(\"CLEANED SALES DATA:\")\n",
    "print(sales_df.head())\n",
    "\n",
    "# Optionally save to new CSV\n",
    "sales_df.to_csv(\"Cleaned_Sales.csv\", index=False)\n"
   ]
  }
 ],
 "metadata": {
  "kernelspec": {
   "display_name": ".venv (3.12.3)",
   "language": "python",
   "name": "python3"
  },
  "language_info": {
   "codemirror_mode": {
    "name": "ipython",
    "version": 3
   },
   "file_extension": ".py",
   "mimetype": "text/x-python",
   "name": "python",
   "nbconvert_exporter": "python",
   "pygments_lexer": "ipython3",
   "version": "3.12.3"
  }
 },
 "nbformat": 4,
 "nbformat_minor": 5
}
