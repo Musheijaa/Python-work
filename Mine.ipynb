{
 "cells": [
  {
   "cell_type": "code",
   "execution_count": 9,
   "id": "c2a0ef33",
   "metadata": {},
   "outputs": [
    {
     "name": "stdout",
     "output_type": "stream",
     "text": [
      "CLEANED MINE DATA:\n",
      "   Duration       Date  Pulse  Maxpulse  Calories\n",
      "0        60 2023-10-01  110.0     130.0     409.1\n",
      "1        60 2023-10-02  117.0     145.0     479.0\n",
      "2        60 2023-10-03  103.0     135.0     340.3\n",
      "3        45 2023-10-04  109.0     175.0     282.4\n",
      "4        45 2023-10-05  117.0     150.0     405.1\n"
     ]
    },
    {
     "name": "stderr",
     "output_type": "stream",
     "text": [
      "/tmp/ipykernel_50239/3873366051.py:10: FutureWarning: DataFrame.fillna with 'method' is deprecated and will raise in a future version. Use obj.ffill() or obj.bfill() instead.\n",
      "  mine_df = mine_df.fillna(method='ffill')\n"
     ]
    }
   ],
   "source": [
    "import pandas as pd\n",
    "\n",
    "# Load the dataset\n",
    "mine_df = pd.read_csv(\"Mine.csv\")\n",
    "\n",
    "# Drop duplicate rows\n",
    "mine_df = mine_df.drop_duplicates()\n",
    "\n",
    "# Fill missing values (customize as needed)\n",
    "mine_df = mine_df.fillna(method='ffill')\n",
    "\n",
    "# Convert date columns to proper format\n",
    "for col in mine_df.columns:\n",
    "    if 'date' in col.lower():\n",
    "        mine_df[col] = pd.to_datetime(mine_df[col], errors='coerce')\n",
    "\n",
    "# Drop unnecessary columns (adjust if needed)\n",
    "columns_to_drop = ['UnneededColumn1', 'UnneededColumn2']  # Replace with real ones\n",
    "mine_df = mine_df.drop(columns=[col for col in columns_to_drop if col in mine_df.columns], errors='ignore')\n",
    "\n",
    "# Show cleaned dataset\n",
    "print(\"CLEANED MINE DATA:\")\n",
    "print(mine_df.head())\n",
    "\n",
    "# Optionally save to new CSV\n",
    "mine_df.to_csv(\"Cleaned_Mine.csv\", index=False)\n"
   ]
  }
 ],
 "metadata": {
  "kernelspec": {
   "display_name": ".venv (3.12.3)",
   "language": "python",
   "name": "python3"
  },
  "language_info": {
   "codemirror_mode": {
    "name": "ipython",
    "version": 3
   },
   "file_extension": ".py",
   "mimetype": "text/x-python",
   "name": "python",
   "nbconvert_exporter": "python",
   "pygments_lexer": "ipython3",
   "version": "3.12.3"
  }
 },
 "nbformat": 4,
 "nbformat_minor": 5
}
